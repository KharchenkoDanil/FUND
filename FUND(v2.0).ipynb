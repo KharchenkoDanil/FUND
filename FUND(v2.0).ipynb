{
 "cells": [
  {
   "cell_type": "markdown",
   "metadata": {},
   "source": [
    "# Решение прямой задачи\n"
   ]
  },
  {
   "cell_type": "code",
   "execution_count": 2,
   "metadata": {},
   "outputs": [],
   "source": [
    "import numpy as np\n",
    "import pandas as pd\n",
    "import sys\n",
    "import matplotlib.pyplot as plt"
   ]
  },
  {
   "cell_type": "code",
   "execution_count": 3,
   "metadata": {},
   "outputs": [],
   "source": [
    "def g_Psi(t):\n",
    "    frame = pd.read_csv(\"C:\\\\Users\\DanilAdmin\\Downloads\\MimiFUND.jl-master\\data\\scenaeei.csv\", names=['Year','Country', 'Value'])\n",
    "    frame.drop(index=0, inplace=True)\n",
    "    newframe=frame.groupby(\"Year\").mean()\n",
    "    Year=np.linspace(1950,3000,1051)\n",
    "    newframe[\"Year\"]=Year\n",
    "    AB=[0]*newframe[\"Year\"].size\n",
    "    for i in range(newframe[\"Value\"].size-1):\n",
    "        A=[[newframe[\"Year\"][i],1],[newframe[\"Year\"][i+1],1]]\n",
    "        B=[newframe[\"Value\"][i],newframe[\"Value\"][i+1]]\n",
    "        AB[i]=np.linalg.solve(A,B)\n",
    "    for i in range(newframe[\"Value\"].size):\n",
    "        if(i<t<i+1):\n",
    "            return AB[i][0]*t+AB[i][1]\n",
    "        if(t==i):\n",
    "            return newframe[\"Value\"][i]\n",
    "    \n",
    "def g_fi(t):\n",
    "    frame = pd.read_csv(\"C:\\\\Users\\DanilAdmin\\Downloads\\MimiFUND.jl-master\\data\\scenacei.csv\", names=['Year','Country', 'Value'])\n",
    "    frame.drop(index=0, inplace=True)\n",
    "    newframe=frame.groupby(\"Year\").mean()\n",
    "    Year=np.linspace(1950,3000,1051)\n",
    "    newframe[\"Year\"]=Year\n",
    "    AB=[0]*newframe[\"Year\"].size\n",
    "    for i in range(newframe[\"Value\"].size-1):\n",
    "        A=[[newframe[\"Year\"][i],1],[newframe[\"Year\"][i+1],1]]\n",
    "        B=[newframe[\"Value\"][i],newframe[\"Value\"][i+1]]\n",
    "        AB[i]=np.linalg.solve(A,B)\n",
    "    for i in range(newframe[\"Value\"].size):\n",
    "        if(i<t<i+1):\n",
    "            return AB[i][0]*t+AB[i][1]\n",
    "        if(t==i):\n",
    "            return newframe[\"Value\"][i]"
   ]
  },
  {
   "cell_type": "code",
   "execution_count": 4,
   "metadata": {},
   "outputs": [],
   "source": [
    "T=30 #временной промежуток(лет) (1990-2019)"
   ]
  },
  {
   "cell_type": "markdown",
   "metadata": {},
   "source": [
    "## $M_t$ - уровень загрязнения $CO_2$"
   ]
  },
  {
   "cell_type": "code",
   "execution_count": 5,
   "metadata": {},
   "outputs": [],
   "source": [
    "M = [0] * T\n",
    "PSI = [0] * T \n",
    "FI = [0] * T\n",
    "alpha = [0] * T \n",
    "Y = [0] * T  "
   ]
  },
  {
   "cell_type": "code",
   "execution_count": 7,
   "metadata": {},
   "outputs": [],
   "source": [
    "Carbon_tax=pd.read_excel(\"C:\\\\Users\\DanilAdmin\\Downloads\\\\CT.xlsx\", sheet_name=\"Data_Price\")\n",
    "\n",
    "tau=[0]*T\n",
    "\n",
    "for i in range(T):\n",
    "    tau[i]=Carbon_tax[\"Price_rate_2_\"+str(i+1990)].sum()\n",
    "\n",
    "for i in range(T):\n",
    "        alpha[i]=1-0.01*tau[i]/(1+0.01*tau[i])\n",
    "\n",
    "PSI[0]=55\n",
    "FI[0]=21\n",
    "for i in range(T-1):\n",
    "        PSI[i+1]=g_Psi(int(i)+40)*PSI[i]-alpha[i]*tau[i]\n",
    "        FI[i+1]=g_fi(int(i)+40)*FI[i]-alpha[i]*tau[i]\n",
    "        \n",
    "        "
   ]
  },
  {
   "cell_type": "code",
   "execution_count": 8,
   "metadata": {},
   "outputs": [],
   "source": [
    "GDP = pd.read_csv(\"C:\\\\Users\\DanilAdmin\\Downloads\\WorldGDP.csv\")\n",
    "\n",
    "GDP_list=[]\n",
    "for i in range(1990,2020):\n",
    "    GDP_list.append(GDP[str(i)])\n",
    "\n",
    "\n",
    "\n",
    "Y=[0]*len(GDP_list)\n",
    "for i in range(len(GDP_list)):\n",
    "    Y[i]=GDP_list[i][0]*10**(-6) #В миллионах долларов\n"
   ]
  },
  {
   "cell_type": "code",
   "execution_count": 9,
   "metadata": {},
   "outputs": [],
   "source": [
    "for i in range(T):\n",
    "        M[i]=PSI[i]*FI[i]*Y[i]"
   ]
  },
  {
   "cell_type": "code",
   "execution_count": 10,
   "metadata": {},
   "outputs": [
    {
     "data": {
      "text/plain": [
       "[<matplotlib.lines.Line2D at 0xd6d1f8ea88>]"
      ]
     },
     "execution_count": 10,
     "metadata": {},
     "output_type": "execute_result"
    },
    {
     "data": {
      "image/png": "[encoded data removed]",
      "text/plain": [
       "<Figure size 432x288 with 1 Axes>"
      ]
     },
     "metadata": {
      "needs_background": "light"
     },
     "output_type": "display_data"
    }
   ],
   "source": [
    "t=np.linspace(1990,2019,30)\n",
    "plt.plot(t,M)"
   ]
  },
  {
   "cell_type": "markdown",
   "metadata": {},
   "source": [
    "## $C_t$ - затраты на сокращение выбросов"
   ]
  },
  {
   "cell_type": "code",
   "execution_count": 11,
   "metadata": {},
   "outputs": [],
   "source": [
    "C = [0] * T \n",
    "H = [0] * T  #нужны начальные данные"
   ]
  },
  {
   "cell_type": "code",
   "execution_count": 12,
   "metadata": {},
   "outputs": [],
   "source": [
    "betta=0.784\n",
    "H[0]=125\n",
    "\n",
    "for i in range(1,T):\n",
    "    H[i]=H[i-1]*(1+tau[i])**(1/2)\n",
    "\n",
    "for i in range(T):\n",
    "    C[i]=(betta*(tau[i])**2)/H[i]*Y[i]"
   ]
  },
  {
   "cell_type": "code",
   "execution_count": 13,
   "metadata": {},
   "outputs": [
    {
     "data": {
      "text/plain": [
       "[0.0,\n",
       " 27.31072615,\n",
       " 27.812138490000002,\n",
       " 32.47581521,\n",
       " 31.47604617,\n",
       " 36.97355599,\n",
       " 38.7808246,\n",
       " 48.58495174,\n",
       " 45.05973716,\n",
       " 35.19638312,\n",
       " 33.04247198,\n",
       " 29.0463502,\n",
       " 30.13351841,\n",
       " 37.39158532,\n",
       " 31.083117197,\n",
       " 33.464278678999996,\n",
       " 30.956643743999997,\n",
       " 37.575919127000006,\n",
       " 47.196542830000006,\n",
       " 35.877565985,\n",
       " 34.981293774,\n",
       " 96.774213667,\n",
       " 93.423666865,\n",
       " 99.22967290599999,\n",
       " 116.90461516100001,\n",
       " 128.691088652,\n",
       " 64.03268339600001,\n",
       " 72.537890719,\n",
       " 29.059358152999998,\n",
       " 86.882848085]"
      ]
     },
     "execution_count": 13,
     "metadata": {},
     "output_type": "execute_result"
    }
   ],
   "source": [
    "tau"
   ]
  },
  {
   "cell_type": "code",
   "execution_count": 14,
   "metadata": {},
   "outputs": [
    {
     "data": {
      "text/plain": [
       "[<matplotlib.lines.Line2D at 0xd6d207d988>]"
      ]
     },
     "execution_count": 14,
     "metadata": {},
     "output_type": "execute_result"
    },
    {
     "data": {
      "image/png": "[encoded data removed]",
      "text/plain": [
       "<Figure size 432x288 with 1 Axes>"
      ]
     },
     "metadata": {
      "needs_background": "light"
     },
     "output_type": "display_data"
    }
   ],
   "source": [
    "plt.plot(t,C)"
   ]
  },
  {
   "cell_type": "markdown",
   "metadata": {},
   "source": [
    "## $E^B_t$ - выбросы наземной биосферы"
   ]
  },
  {
   "cell_type": "code",
   "execution_count": 15,
   "metadata": {},
   "outputs": [],
   "source": [
    "E_b=[0] * T #нужны начальные данные\n",
    "T_t = [0] * T #нужны начальные данные\n",
    "B = [0] * T #нужны начальные данные\n",
    "RF = [0] * T \n",
    "CS=3.0\n",
    "alpha_=-42.7\n",
    "betta_l=29.1\n",
    "betta_q=0.001\n",
    "beta=2.6\n",
    "B_max=1900\n",
    "T_2010=T_t[20] #температура в 2010 году"
   ]
  },
  {
   "cell_type": "code",
   "execution_count": 16,
   "metadata": {},
   "outputs": [],
   "source": [
    "GDP_PC = pd.read_csv(\"C:\\\\Users\\DanilAdmin\\Downloads\\GDP_per_capita.csv\")\n",
    "\n",
    "GDP_list=[]\n",
    "for i in range(1990,2020):\n",
    "    GDP_list.append(GDP_PC[str(i)])\n",
    "\n",
    "\n",
    "\n",
    "GDP_per_capita=[0]*len(GDP_list)\n",
    "for i in range(len(GDP_list)):\n",
    "    GDP_per_capita[i]=GDP_list[i][0] #долларов"
   ]
  },
  {
   "cell_type": "code",
   "execution_count": 17,
   "metadata": {},
   "outputs": [
    {
     "data": {
      "text/plain": [
       "[<matplotlib.lines.Line2D at 0xd6d2150f88>]"
      ]
     },
     "execution_count": 17,
     "metadata": {},
     "output_type": "execute_result"
    },
    {
     "data": {
      "image/png": "[encoded data removed]",
      "text/plain": [
       "<Figure size 432x288 with 1 Axes>"
      ]
     },
     "metadata": {
      "needs_background": "light"
     },
     "output_type": "display_data"
    }
   ],
   "source": [
    "rfso2= pd.read_csv(\"C:\\\\Users\\DanilAdmin\\Downloads\\MimiFUND.jl-master\\data\\\\rfso2.csv\", names=[\"Year\",\"Value\"])\n",
    "\n",
    "CH4em = pd.read_csv(\"C:\\\\Users\\DanilAdmin\\Downloads\\MimiFUND.jl-master\\data\\ch4em.csv\", names=['Year','Country', 'Value'])\n",
    "CH4em.drop(index=0, inplace=True)\n",
    "CH4=CH4em.groupby(\"Year\").sum()\n",
    "Year=np.linspace(1950,3000,1051)\n",
    "CH4[\"Year\"]=Year\n",
    "\n",
    "N2Oem = pd.read_csv(\"C:\\\\Users\\DanilAdmin\\Downloads\\MimiFUND.jl-master\\data\\\\n2oem.csv\", names=['Year','Country', 'Value'])\n",
    "N2Oem.drop(index=0, inplace=True)\n",
    "N2O=N2Oem.groupby(\"Year\").sum()\n",
    "Year=np.linspace(1950,3000,1051)\n",
    "N2O[\"Year\"]=Year\n",
    "\n",
    "CO2em=pd.read_csv(\"C:\\\\Users\\DanilAdmin\\Downloads\\CO2em.csv\")\n",
    "CO2em.drop(CO2em[CO2em.country !=\"World\"].index, inplace=True)\n",
    "CO2em.drop(CO2em[CO2em.year<1990].index, inplace=True)\n",
    "\n",
    "CO2=[0]*T\n",
    "for i in range(T):\n",
    "    CO2[i]=CO2em.co2[i+23421]\n",
    "\n",
    "SF6=[0]*T\n",
    "\n",
    "for i in range(T):\n",
    "    SF6[i]=5.4083*10**(-6)*Y[i]-5.8961*10**(-5)*GDP_per_capita[i]\n",
    "\n",
    "def RF(t):\n",
    "    return 5.35*np.log(CO2[int(t)]/275)+0.036*1.4*(np.sqrt(CH4[\"Value\"][int(t)+40])-np.sqrt(790))+0.12*(np.sqrt(N2O[\"Value\"][int(t)+1990])-np.sqrt(285))-0.47*np.log(1+2.01*(10**(-5))*((CH4[\"Value\"][int(t)+40])**0.75)*(285**0.75)+5.31*(10**(-15))*((CH4[\"Value\"][int(t)+40])*2.52)*((285)**1.52))-0.47*np.log(1+2.01*(10**(-5))*((N2O[\"Value\"][int(t)+1990])**0.75)*(790**0.75)+5.31*(10**(-15))*((N2O[\"Value\"][int(t)+1990])*1.52)*((790)**2.52))+2*0.47*np.log(1+2.01*(10**(-5))*((790)**0.75)*(285**0.75)+5.31*(10**(-15))*((790)*2.52)*((285)**1.52))+0.00052*(SF6[int(t)]-0.04)+rfso2[\"Value\"][t+40]\n",
    "\n",
    "def eft(alpha,betta_l,CS,betta_q):\n",
    "    return max(alpha+betta_l*CS+betta_q*CS**2,1)\n",
    "\n",
    "CS=3.0\n",
    "T_t[0]=15.0\n",
    "\n",
    "for i in range(1,T):  \n",
    "    T_t[i]=(1-1/eft(-42.7,29.1,3.0,0.001))*T_t[i-1]+1/eft(-42.7,29.1,3.0,0.001)*CS*abs(RF(int(i)))/(5.35*np.log(2))\n",
    "    \n",
    "plt.plot(t,T_t)"
   ]
  },
  {
   "cell_type": "code",
   "execution_count": 21,
   "metadata": {},
   "outputs": [
    {
     "data": {
      "image/png": "[encoded data removed]",
      "text/plain": [
       "<Figure size 432x288 with 1 Axes>"
      ]
     },
     "metadata": {
      "needs_background": "light"
     },
     "output_type": "display_data"
    }
   ],
   "source": [
    "import numpy as np\n",
    "import matplotlib.pyplot as plt\n",
    "\n",
    "x = np.linspace(0, 5, 100)\n",
    "y = x*(x - 2)*(x - 4)\n",
    "\n",
    "fig, ax = plt.subplots()\n",
    "\n",
    "ax.plot(t, T_t)\n",
    "ax.grid()\n",
    "\n",
    "#  Добавляем подписи к осям:\n",
    "ax.set_xlabel('год')\n",
    "ax.set_ylabel('температура (градусы Цельсия)')\n",
    "\n",
    "plt.show()\n"
   ]
  },
  {
   "cell_type": "code",
   "execution_count": null,
   "metadata": {},
   "outputs": [],
   "source": [
    "E_b[0]=154\n",
    "B[0]=550\n",
    "\n",
    "for i in range(1,T):\n",
    "    B[i]=B[i-1]-E_b[i-1]\n",
    "    E_b[i]=beta*(T_t[i]-T_2010)*B[i]/B_max\n",
    "    "
   ]
  },
  {
   "cell_type": "code",
   "execution_count": null,
   "metadata": {},
   "outputs": [],
   "source": [
    "plt.plot(t,E_b)"
   ]
  },
  {
   "cell_type": "markdown",
   "metadata": {},
   "source": [
    "## $C_t$ - концетрации газов"
   ]
  },
  {
   "cell_type": "code",
   "execution_count": null,
   "metadata": {},
   "outputs": [],
   "source": [
    "C_CH4= [0] * T\n",
    "C_N2O= [0] * T\n",
    "C_SF6=[0]*T\n",
    "E = [0] * T "
   ]
  },
  {
   "cell_type": "code",
   "execution_count": null,
   "metadata": {},
   "outputs": [],
   "source": [
    "#Для CH4 и N2O\n",
    "\n",
    "alpha=[0.3597,0.2079,0.0398]\n",
    "betta=[1/12,1/114,1/3200]\n",
    "C_pre=[790,285,0.04]\n",
    "\n",
    "CH4em = pd.read_csv(\"C:\\\\Users\\DanilAdmin\\Downloads\\MimiFUND.jl-master\\data\\ch4em.csv\", names=['Year','Country', 'Value'])\n",
    "CH4em.drop(index=0, inplace=True)\n",
    "CH4=CH4em.groupby(\"Year\").sum()\n",
    "Year=np.linspace(1950,3000,1051)\n",
    "CH4[\"Year\"]=Year\n",
    "\n",
    "\n",
    "N2Oem = pd.read_csv(\"C:\\\\Users\\DanilAdmin\\Downloads\\MimiFUND.jl-master\\data\\\\n2oem.csv\", names=['Year','Country', 'Value'])\n",
    "N2Oem.drop(index=0, inplace=True)\n",
    "N2O=N2Oem.groupby(\"Year\").sum()\n",
    "Year=np.linspace(1950,3000,1051)\n",
    "N2O[\"Year\"]=Year\n",
    "\n",
    "\n",
    "C_CH4[0]=1710\n",
    "C_N2O[0]=309\n",
    "C_SF6[0]=0.09\n",
    "\n",
    "N2O_=[0]*T\n",
    "for i in range(T):\n",
    "    N2O_[i]=N2O[\"Value\"][i+1990]\n",
    "\n",
    "CH4_=[0]*T\n",
    "for i in range(T):\n",
    "    CH4_[i]=CH4[\"Value\"][i+40]\n",
    "\n",
    "for i in range(1,T):\n",
    "    C_CH4[i]=C_CH4[i-1]+alpha[0]*CH4_[i]-betta[0]*(C_CH4[i-1]-C_pre[0])\n",
    "    C_N2O[i]=C_N2O[i-1]+alpha[1]*N2O_[i]-betta[1]*(C_N2O[i-1]-C_pre[1])\n",
    "    C_SF6[i]=C_SF6[i-1]+alpha[2]*SF6[i]-betta[2]*(C_SF6[i-1]-C_pre[2])\n",
    "\n"
   ]
  },
  {
   "cell_type": "code",
   "execution_count": null,
   "metadata": {},
   "outputs": [],
   "source": [
    "SF6[20]"
   ]
  },
  {
   "cell_type": "code",
   "execution_count": null,
   "metadata": {},
   "outputs": [],
   "source": [
    "plt.plot(t,C_SF6)"
   ]
  },
  {
   "cell_type": "code",
   "execution_count": null,
   "metadata": {},
   "outputs": [],
   "source": [
    "plt.plot(t,C_CH4)"
   ]
  },
  {
   "cell_type": "code",
   "execution_count": null,
   "metadata": {},
   "outputs": [],
   "source": [
    "plt.plot(t,C_N2O)"
   ]
  },
  {
   "cell_type": "code",
   "execution_count": null,
   "metadata": {},
   "outputs": [],
   "source": [
    "C_N2O[27],C_CH4[27]"
   ]
  },
  {
   "cell_type": "code",
   "execution_count": null,
   "metadata": {},
   "outputs": [],
   "source": [
    "SF6"
   ]
  },
  {
   "cell_type": "code",
   "execution_count": null,
   "metadata": {},
   "outputs": [],
   "source": [
    "#Для CO2\n",
    "\n",
    "Box=[[0]*(T)]*5 #40=1990-1950(потому что начальные данные для 1950)\n",
    "\n",
    "#Начальные значения для Box, непонятно, зачем нужны, если нет зависимости от прошлого \n",
    "#Box[0][0]=296.002949511\n",
    "#Box[1][0]=5.52417779186\n",
    "#Box[2][0]=6.65150094285\n",
    "#Box[3][0]=2.39635475726\n",
    "#Box[4][0]=0.17501699667\n",
    "\n",
    "alpha=[0.13,0.20,0.32,0.25,0.10]\n",
    "ro=[np.exp(-1/float(\"inf\")),np.exp(-1/363),np.exp(-1/74),np.exp(-1/17),np.exp(-1/2)]\n",
    "\n",
    "for i in range(5):\n",
    "    for j in range(1,T):\n",
    "        Box[i][j]=Box[i][j]*ro[i]+0.000471*alpha[i]*M[j]\n",
    "#ro[0]=1 => Box сокращяется с обеих сторон       \n",
    "        \n",
    "C_CO2=[0]*T\n",
    "\n",
    "\n",
    "for i in range(T):\n",
    "    for j in range(5):\n",
    "        C_CO2[i]+=alpha[j]+Box[j][i]"
   ]
  },
  {
   "cell_type": "code",
   "execution_count": null,
   "metadata": {},
   "outputs": [],
   "source": [
    "plt.plot(t,C_CO2)"
   ]
  },
  {
   "cell_type": "markdown",
   "metadata": {},
   "source": [
    "## $S_t$ - глобальный средний уровень моря"
   ]
  },
  {
   "cell_type": "code",
   "execution_count": null,
   "metadata": {},
   "outputs": [],
   "source": [
    "S=[0]*T\n",
    "\n",
    "ro=500\n",
    "gamma=2\n",
    "\n",
    "S[0]=30\n",
    "\n",
    "for i in range(1,T):\n",
    "    S[i]=(1-1/ro)*S[i-1]+gamma/ro*T_t[i]"
   ]
  },
  {
   "cell_type": "code",
   "execution_count": null,
   "metadata": {},
   "outputs": [],
   "source": [
    "plt.plot(t,S)"
   ]
  },
  {
   "cell_type": "markdown",
   "metadata": {},
   "source": [
    "## $A^r_t$ - доля ущерба в сельскохозяйственном производстве, обусловленная скоростью изменения климата"
   ]
  },
  {
   "cell_type": "code",
   "execution_count": null,
   "metadata": {},
   "outputs": [],
   "source": [
    "A_r=[0]*T\n",
    "\n",
    "alpha=0.03\n",
    "betta=2.0 #1.5-2.5\n",
    "ro=10 #5-15\n",
    "\n",
    "A_r[0]=0\n",
    "\n",
    "for i in range(1,T):\n",
    "    A_r[i]=alpha*((T_t[i]-T_t[i-1])/0.04)**betta+(1-1/ro)*A_r[i-1]"
   ]
  },
  {
   "cell_type": "code",
   "execution_count": null,
   "metadata": {},
   "outputs": [],
   "source": [
    "A_r"
   ]
  },
  {
   "cell_type": "code",
   "execution_count": null,
   "metadata": {},
   "outputs": [],
   "source": [
    "plt.plot(t,A_r)"
   ]
  },
  {
   "cell_type": "code",
   "execution_count": null,
   "metadata": {},
   "outputs": [],
   "source": []
  }
 ],
 "metadata": {
  "kernelspec": {
   "display_name": "Python 3",
   "language": "python",
   "name": "python3"
  },
  "language_info": {
   "codemirror_mode": {
    "name": "ipython",
    "version": 3
   },
   "file_extension": ".py",
   "mimetype": "text/x-python",
   "name": "python",
   "nbconvert_exporter": "python",
   "pygments_lexer": "ipython3",
   "version": "3.7.6"
  }
 },
 "nbformat": 4,
 "nbformat_minor": 4
}
